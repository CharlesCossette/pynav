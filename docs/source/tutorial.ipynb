{
 "cells": [
  {
   "attachments": {},
   "cell_type": "markdown",
   "metadata": {},
   "source": [
    "# Tutorial\n",
    "\n",
    "In this tutorial, we'll simulate a simple 2D localization problem as per the figure below. We'll assume that we have a robot following a typical bicycle model, which has access to noisy measurements of its forward velocity $v$ and angular velocity $\\omega$. In addition, this robot will have a time-of-flight sensor that gives it range measurements to a few known landmarks in the environment. \n",
    "\n",
    "INSERT DIAGRAM HERE\n",
    "\n",
    "\n",
    "## Traditional approach\n",
    "The first step is to define the state of the robot. We'll start with a more traditional approach and define the state of the robot to be a vector of the form $\\mathbf{x} = [x, y, \\theta]$, where $x$ and $y$ are the robot's position in the world and $\\theta$ is its orientation. We'll also define the control inputs to be $\\mathbf{u} = [v, \\omega]$, the robot's forward and angular velocity. The process (motion) model of the robot is then given by:\n",
    "\n",
    "$$\n",
    "\\begin{aligned}\n",
    "    \\dot{x} &= v \\cos(\\theta), \\\\\n",
    "    \\dot{y} &= v \\sin(\\theta), \\\\\n",
    "    \\dot{\\theta} &= \\omega.\n",
    "\\end{aligned}\n",
    "$$\n",
    "\n",
    "However, this is in continuous time, and we need to discretize it to use it in a filter. For now, we'll use the simple Euler discretization method, which gives us the following discrete-time process model:\n",
    "\n",
    "$$\n",
    "\\begin{aligned}\n",
    "    x_{k+1} &= x_k + v_k \\cos(\\theta_k) \\Delta t, \\\\\n",
    "    y_{k+1} &= y_k + v_k \\sin(\\theta_k) \\Delta t, \\\\\n",
    "    \\theta_{k+1} &= \\theta_k + \\omega_k \\Delta t.\n",
    "\\end{aligned}\n",
    "$$\n",
    "\n",
    "Lets now code up our state and process model using navlie's framework. Since our state is just a regular 3x1 vector, we can use a standard type from the built-in library: `navlie.lib.VectorState` \n"
   ]
  },
  {
   "cell_type": "code",
   "execution_count": null,
   "metadata": {},
   "outputs": [],
   "source": [
    "import numpy as np\n",
    "np.random.seed(0)\n",
    "import navlie as nav\n",
    "from navlie.lib import VectorState\n",
    "\n",
    "x = VectorState([0, 0, 0], stamp=0.0)\n",
    "print(x)"
   ]
  },
  {
   "attachments": {},
   "cell_type": "markdown",
   "metadata": {},
   "source": [
    "The `VectorState` is a subclass of the abstract `State` class in navlie, which is one of the core primitive types. The value of the state is stored as a numpy array, and can be accessed directly through `x.value`. \n",
    "\n",
    "For the process model, we'll choose to define our own from scratch here. Process models in navlie *must* inherit from the abstract `navlie.ProcessModel` class and implement the `evaluate` and either the `input_covariance` or `covariance` methods."
   ]
  },
  {
   "cell_type": "code",
   "execution_count": null,
   "metadata": {},
   "outputs": [],
   "source": [
    "from navlie.lib import VectorInput\n",
    "\n",
    "Q = np.eye(2) * 0.1**2 # Input noise covariance with 0.1 m/s of standard deviation\n",
    "\n",
    "class BicycleModel(nav.ProcessModel):\n",
    "    def evaluate(self, x: VectorState, u: nav.VectorInput, dt: float) -> VectorState:\n",
    "        x_next = x.copy()\n",
    "        x_next.value[0] += u.value[0] * dt * np.cos(x.value[2])\n",
    "        x_next.value[1] += u.value[0] * dt * np.sin(x.value[2])\n",
    "        x_next.value[2] += u.value[1] * dt\n",
    "        return x_next\n",
    "\n",
    "    def input_covariance(self, x: VectorState, u: VectorInput, dt: float) -> np.ndarray:\n",
    "        return Q\n",
    "    \n",
    "process_model = BicycleModel() # instantiate it"
   ]
  },
  {
   "attachments": {},
   "cell_type": "markdown",
   "metadata": {},
   "source": [
    "The methods in navlie process models must always accept the arguments shown above: a `State` object, an `Input` object, and a float `dt`. The `evaluate` method must always return a valid (i.e. subclass) `State` object, and the `input_covariance` method must always return a square numpy array. There are more optional methods that can be implemented for performance reasons, but we will cover those later.\n",
    "\n",
    "Moving on to the measurement model, if $\\mathbf{p} = [x,y]$ denotes the position vector of the robot in the world frame, and $\\mathbf{\\ell}_i \\in \\mathbb{R}^2$ is the 2 x 1 position vector of landmark $i$, then the measurement model for each landmark is simply \n",
    "\n",
    "$$ \n",
    "y_i = ||\\mathbf{p} - \\mathbf{\\ell}_i||\n",
    "$$\n",
    "\n",
    "In navlie, measurement models must be implemented in a similar way to process models: inherit from the `navlie.MeasurementModel` abstract class, and then implement the `evaluate` and `covariance` methods. Here's an example for this problem:"
   ]
  },
  {
   "cell_type": "code",
   "execution_count": null,
   "metadata": {},
   "outputs": [],
   "source": [
    "class RangeToLandmark(nav.MeasurementModel):\n",
    "    def __init__(self, landmark_position: np.ndarray):\n",
    "        self.landmark_position = landmark_position\n",
    "\n",
    "    def evaluate(self, x: VectorState) -> np.ndarray:\n",
    "        return np.linalg.norm(x.value[:2] - self.landmark_position)\n",
    "    \n",
    "    def covariance(self, x: VectorState) -> np.ndarray:\n",
    "        return 0.1**2\n",
    "    \n",
    "landmarks = np.array([[1, 1], [1, 2], [2, 2], [2, 1]])\n",
    "meas_models = [RangeToLandmark(landmark) for landmark in landmarks]"
   ]
  },
  {
   "attachments": {},
   "cell_type": "markdown",
   "metadata": {},
   "source": [
    "The next step is to generate some fake data for our simulation (although navlie is also compatible with real data). To do this, we will use the []`DataGenerator` class which is used as follows"
   ]
  },
  {
   "cell_type": "code",
   "execution_count": null,
   "metadata": {},
   "outputs": [],
   "source": [
    "dg = nav.DataGenerator(\n",
    "    process_model=process_model,                  # process model to use\n",
    "    input_func=lambda t, x: np.array([0.5, 0.3]), # a callable that specifies the input values over time\n",
    "    input_covariance= Q,               # numpy array or callable that specifies the input covariance over time\n",
    "    input_freq=50,                                # the frequency (Hz) at which the input is sampled (and the process model integrated)\n",
    "    meas_model_list=meas_models,                  # a list of measurement models to use\n",
    "    meas_freq_list=[10, 10, 10, 10]               # corresponding measurement frequencies (Hz)\n",
    ")\n",
    "\n",
    "state_data, input_data, meas_data = dg.generate(x, start=0, stop=10, noise=True)\n",
    "\n",
    "print(state_data[0])\n",
    "print(input_data[0])\n",
    "print(meas_data[0])"
   ]
  },
  {
   "attachments": {},
   "cell_type": "markdown",
   "metadata": {},
   "source": [
    "The output of the `DataGenerator.generate` method is three lists: a list of ground-truth `State` objects, a list of `Input` objects, and a list of `Measurement` objects, with the input/measurement lists possibly being corrupted by random noise if the `noise=True` flag is set. Each item in these lists correspond to different points in time. We can plot the trajectory as follows"
   ]
  },
  {
   "cell_type": "code",
   "execution_count": null,
   "metadata": {},
   "outputs": [],
   "source": [
    "import matplotlib.pyplot as plt\n",
    "\n",
    "# Plot the state trajectory\n",
    "pos = np.array([state.value[:2] for state in state_data])\n",
    "plt.plot(pos[:, 0], pos[:, 1])\n",
    "plt.scatter(landmarks[:, 0], landmarks[:, 1])\n",
    "# add labels\n",
    "for i, landmark in enumerate(landmarks):\n",
    "    plt.annotate(f\"Landmark {i}\", landmark)\n",
    "plt.xlabel(\"x\")\n",
    "plt.ylabel(\"y\")\n",
    "plt.title(\"Simulated Trajectory\")\n",
    "plt.axis(\"equal\")\n",
    "\n",
    "\n",
    "# Plot the input data\n",
    "plt.figure()\n",
    "u_array = np.array([u.value for u in input_data])\n",
    "u_stamps = np.array([u.stamp for u in input_data])\n",
    "plt.plot(u_stamps, u_array[:, 0], label=\"v\")\n",
    "plt.plot(u_stamps, u_array[:, 1], label=\"omega\")\n",
    "plt.xlabel(\"Time (s)\")\n",
    "plt.ylabel(\"Input\")\n",
    "plt.title(\"Input Data\")\n",
    "plt.legend()\n",
    "plt.show()\n"
   ]
  },
  {
   "attachments": {},
   "cell_type": "markdown",
   "metadata": {},
   "source": [
    "Finally, lets run an extended Kalman filter on this data to get a state estimate that uses only the noisy measurements"
   ]
  },
  {
   "cell_type": "code",
   "execution_count": null,
   "metadata": {},
   "outputs": [],
   "source": [
    "# First, define the filter\n",
    "kalman_filter = nav.ExtendedKalmanFilter(process_model)\n",
    "P0 = np.diag([1, 1, 0.1**2])  # Initial covariance\n",
    "x = nav.StateWithCovariance(x, P0)  # Estimate and covariance in one container\n",
    "\n",
    "meas_idx = 0\n",
    "y = meas_data[meas_idx]\n",
    "estimates = []\n",
    "for k in range(len(input_data) - 1):\n",
    "    u = input_data[k]\n",
    "\n",
    "    # Fuse any measurements that have occurred.\n",
    "    while y.stamp < input_data[k + 1].stamp and meas_idx < len(meas_data):\n",
    "        x = kalman_filter.correct(x, y, u)\n",
    "\n",
    "        # Load the next measurement\n",
    "        meas_idx += 1\n",
    "        if meas_idx < len(meas_data):\n",
    "            y = meas_data[meas_idx]\n",
    "\n",
    "    # Predict until the next input is available\n",
    "    dt = input_data[k + 1].stamp - x.state.stamp\n",
    "    x = kalman_filter.predict(x, u, dt)\n",
    "\n",
    "    estimates.append(x.copy())"
   ]
  },
  {
   "attachments": {},
   "cell_type": "markdown",
   "metadata": {},
   "source": [
    "The `GaussianResultList` object is a useful container for evaluating the quality of the state estimates when ground truth data is available. "
   ]
  },
  {
   "cell_type": "code",
   "execution_count": null,
   "metadata": {},
   "outputs": [],
   "source": [
    "results = nav.GaussianResultList.from_estimates(estimates, state_data)\n",
    "\n",
    "fig, axs = nav.plot_error(results)\n",
    "axs[0].set_title(\"Estimation Errors\")\n",
    "axs[0].set_ylabel(\"x (m)\")\n",
    "axs[1].set_ylabel(\"y (m)\")\n",
    "axs[2].set_ylabel(\"theta (rad)\")\n",
    "axs[2].set_xlabel(\"Time (s)\")\n",
    "\n",
    "fig, ax = nav.plot_nees(results)\n",
    "ax.set_title(\"NEES\")\n",
    "ax.set_xlabel(\"Time (s)\")\n",
    "plt.show()"
   ]
  },
  {
   "attachments": {},
   "cell_type": "markdown",
   "metadata": {},
   "source": [
    "## Lie group approach\n"
   ]
  },
  {
   "attachments": {},
   "cell_type": "markdown",
   "metadata": {},
   "source": [
    "## Jacobians"
   ]
  }
 ],
 "metadata": {
  "kernelspec": {
   "display_name": "Python 3",
   "language": "python",
   "name": "python3"
  },
  "language_info": {
   "codemirror_mode": {
    "name": "ipython",
    "version": 3
   },
   "file_extension": ".py",
   "mimetype": "text/x-python",
   "name": "python",
   "nbconvert_exporter": "python",
   "pygments_lexer": "ipython3",
   "version": "3.8.16"
  },
  "orig_nbformat": 4
 },
 "nbformat": 4,
 "nbformat_minor": 2
}
